{
 "cells": [
  {
   "cell_type": "code",
   "execution_count": null,
   "metadata": {},
   "outputs": [],
   "source": [
    "import os\n",
    "import sys\n",
    "PROJ_ROOT = os.path.abspath(os.path.join(os.pardir))\n",
    "sys.path.append(os.path.join(PROJ_ROOT, 'src'))\n",
    "\n",
    "%matplotlib inline\n",
    "%config InlineBackend.figure_format ='retina'\n",
    "\n",
    "%load_ext autoreload\n",
    "%autoreload 2\n",
    "\n",
    "%aimport data, model, features, plot\n",
    "\n",
    "import pandas as pd\n",
    "import numpy as np\n",
    "import plotly.graph_objects as go\n",
    "import plotly.express as px\n",
    "\n",
    "from lightgbm import LGBMRegressor\n",
    "\n",
    "\n",
    "from plot.plot import scatter_against_target_fig\n",
    "\n",
    "from model.evaluation import score_rmse\n",
    "from model.regressor import ClusterRegressor\n",
    "import features.selection as feature_selection\n",
    "import features.extraction as feature_extraction"
   ]
  },
  {
   "cell_type": "code",
   "execution_count": null,
   "metadata": {},
   "outputs": [],
   "source": [
    "from data.dataset import DataSet\n",
    "\n",
    "traindf = DataSet.traindf\n",
    "testdf = DataSet.testdf\n",
    "\n",
    "print(f\"train:\\t{traindf.shape}\\ntest:\\t{testdf.shape}\")"
   ]
  },
  {
   "cell_type": "code",
   "execution_count": null,
   "metadata": {},
   "outputs": [],
   "source": [
    "cluster_stats, cluster_median_trends, cluster_mean_trends = feature_extraction\\\n",
    "                                                                .calculate_statistics_by_cluster(traindf, 'city')"
   ]
  },
  {
   "cell_type": "code",
   "execution_count": null,
   "metadata": {},
   "outputs": [],
   "source": [
    "feature_extraction.apply_cluster_statistics(traindf, 'city', cluster_stats, cluster_median_trends, cluster_mean_trends)"
   ]
  },
  {
   "cell_type": "code",
   "execution_count": null,
   "metadata": {},
   "outputs": [],
   "source": [
    "traindf"
   ]
  },
  {
   "cell_type": "code",
   "execution_count": null,
   "metadata": {},
   "outputs": [],
   "source": [
    "feature_extraction.apply_cluster_statistics(testdf, 'city', cluster_stats, cluster_median_trends, cluster_mean_trends)"
   ]
  },
  {
   "cell_type": "code",
   "execution_count": null,
   "metadata": {},
   "outputs": [],
   "source": [
    "X_train, y_train = pd.get_dummies(traindf.drop(columns=['target', 'station']), prefix='', prefix_sep=''), traindf.target\n",
    "X_test, y_test = pd.get_dummies(testdf.drop(columns=['target', 'station']), prefix='', prefix_sep=''), testdf.target"
   ]
  },
  {
   "cell_type": "code",
   "execution_count": null,
   "metadata": {},
   "outputs": [],
   "source": [
    "X_train, y_train = traindf.drop(columns=['target', 'station', 'city']), traindf.target\n",
    "X_test, y_test = testdf.drop(columns=['target', 'station', 'city']), testdf.target"
   ]
  },
  {
   "cell_type": "code",
   "execution_count": null,
   "metadata": {},
   "outputs": [],
   "source": [
    "xtset = set(X_test.columns)\n",
    "xtrset = set(X_train.columns)\n",
    "xtset.difference(xtrset)"
   ]
  },
  {
   "cell_type": "code",
   "execution_count": null,
   "metadata": {},
   "outputs": [],
   "source": [
    "X_test.shape"
   ]
  },
  {
   "cell_type": "code",
   "execution_count": null,
   "metadata": {},
   "outputs": [],
   "source": [
    "xtset.difference(xtrset)"
   ]
  },
  {
   "cell_type": "code",
   "execution_count": null,
   "metadata": {},
   "outputs": [],
   "source": [
    "CLUSTER_POSTFIXES = ['city_cluster']\n",
    "\n",
    "\n",
    "def cluster_columns(columns):\n",
    "    result = []\n",
    "    for c in columns:\n",
    "        if (c not in set([])):\n",
    "            for mask in CLUSTER_POSTFIXES:\n",
    "                if mask in c:\n",
    "                    result.append(c)\n",
    "                    break\n",
    "    return result"
   ]
  },
  {
   "cell_type": "code",
   "execution_count": null,
   "metadata": {},
   "outputs": [],
   "source": [
    "traindf.city.unique()"
   ]
  },
  {
   "cell_type": "code",
   "execution_count": null,
   "metadata": {},
   "outputs": [],
   "source": [
    "cluster_columns(traindf.columns)"
   ]
  },
  {
   "cell_type": "code",
   "execution_count": null,
   "metadata": {},
   "outputs": [],
   "source": [
    "ffeature = list(set.union(set(cluster_columns(traindf.columns)), boruta_features.index))"
   ]
  },
  {
   "cell_type": "code",
   "execution_count": null,
   "metadata": {},
   "outputs": [],
   "source": [
    "ffeature"
   ]
  },
  {
   "cell_type": "code",
   "execution_count": null,
   "metadata": {},
   "outputs": [],
   "source": [
    "feat = feature_selection.correlation(traindf.drop(columns=['station', 'city']), 'target',threshold=0.15).abs().sort_values(ascending=False).index\n"
   ]
  },
  {
   "cell_type": "code",
   "execution_count": null,
   "metadata": {},
   "outputs": [],
   "source": [
    "len(feat)"
   ]
  },
  {
   "cell_type": "markdown",
   "metadata": {},
   "source": [
    "#### Note: for feature extraction see features.extraction package"
   ]
  },
  {
   "cell_type": "code",
   "execution_count": null,
   "metadata": {},
   "outputs": [],
   "source": [
    "from sklearn.metrics import r2_score, max_error, explained_variance_score\n",
    "print(f\"Base line RMSE:\\t\\t{score_rmse(y_test, X_test.traff_mean):.3f}\")\n",
    "print(f\"R^2:\\t{r2_score(y_test, X_test.traff_mean): .3f}\")\n",
    "print(f\"Max Error:\\t{max_error(y_test, X_test.traff_mean): .3f}\")\n",
    "print(f\"Var:\\t{explained_variance_score(y_test, X_test.traff_mean): .3f}\")\n",
    "\n",
    "baseregressor = LGBMRegressor()\n",
    "baseregressor.fit(X_train[feat], y_train)\n",
    "pred = baseregressor.predict(X_test[feat])\n",
    "print(f\"All features RMSE:\\t{score_rmse(y_test, pred): .3f}\")\n",
    "print(f\"R^2:\\t{r2_score(y_test, pred): .3f}\")\n",
    "print(f\"Max Error:\\t{max_error(y_test, pred): .3f}\")\n",
    "print(f\"Var:\\t{explained_variance_score(y_test, pred): .3f}\")"
   ]
  },
  {
   "cell_type": "code",
   "execution_count": null,
   "metadata": {},
   "outputs": [],
   "source": [
    "boruta_features.sort_values(ascending=False).index[:6]"
   ]
  },
  {
   "cell_type": "code",
   "execution_count": null,
   "metadata": {},
   "outputs": [],
   "source": [
    "from sklearn.metrics import r2_score, max_error, explained_variance_score\n",
    "print(f\"All features RMSE:\\t{r2_score(y_test, pred): .3f}\")"
   ]
  },
  {
   "cell_type": "code",
   "execution_count": null,
   "metadata": {},
   "outputs": [],
   "source": [
    "from sklearn.metrics import r2_score, max_error, explained_variance_score\n",
    "print(f\"Base line RMSE:\\t\\t{max_error(y_test, X_test.traff_mean):.3f}\")"
   ]
  },
  {
   "cell_type": "code",
   "execution_count": null,
   "metadata": {},
   "outputs": [],
   "source": [
    "std = 10\n",
    "X_train, y_train = traindf[traindf.traff_std <= std].drop(columns=['target']), traindf[traindf.traff_std <= std].target\n",
    "X_test, y_test = testdf[testdf.traff_std <= std].drop(columns=['target']), testdf[testdf.traff_std <= std].target\n",
    "\n",
    "\n",
    "baseregressor = LGBMRegressor()\n",
    "baseregressor.fit(X_train, y_train)\n",
    "pred1 = baseregressor.predict(X_test)\n",
    "ytest1 = y_test\n",
    "print(f\"All features RMSE:\\t{score_rmse(y_test, pred1): .3f}\")"
   ]
  },
  {
   "cell_type": "code",
   "execution_count": null,
   "metadata": {},
   "outputs": [],
   "source": [
    "std = 10\n",
    "X_train, y_train = traindf[traindf.traff_std > std].drop(columns=['target']), traindf[traindf.traff_std > std].target\n",
    "X_test, y_test = testdf[testdf.traff_std > std].drop(columns=['target']), testdf[testdf.traff_std > std].target\n",
    "\n",
    "\n",
    "baseregressor = LGBMRegressor()\n",
    "baseregressor.fit(X_train, y_train)\n",
    "\n",
    "pred2 = baseregressor.predict(X_test)\n",
    "y_test2 = y_test\n",
    "print(f\"All features RMSE:\\t{score_rmse(y_test, pred2): .3f}\")"
   ]
  },
  {
   "cell_type": "code",
   "execution_count": null,
   "metadata": {},
   "outputs": [],
   "source": [
    "print(f\"All features RMSE:\\t{score_rmse(y_test2, np.array([27.392696] * len(y_test2))): .3f}\")"
   ]
  },
  {
   "cell_type": "code",
   "execution_count": null,
   "metadata": {},
   "outputs": [],
   "source": [
    "df = traindf[traindf.traff_std > 10].copy()\n",
    "df = df.fillna(df.mean())"
   ]
  },
  {
   "cell_type": "code",
   "execution_count": null,
   "metadata": {},
   "outputs": [],
   "source": [
    "feat = feature_selection.correlation(df, 'target',threshold=0.01).abs().sort_values(ascending=False)[:20].index"
   ]
  },
  {
   "cell_type": "code",
   "execution_count": null,
   "metadata": {},
   "outputs": [],
   "source": [
    "from model.selection import estimate\n",
    "estimate(df[np.append(feat ,['target', 'city_cluster_last_month_max','loc_lon', \n",
    "                             'city_cluster_last_month_min',\n",
    "                             'city_cluster_last_month_median',\n",
    "                            'city_cluster_last_month_mean','city_cluster_last_month_std', 'city_cluster_median_td', 'city_cluster_mean_td'])], rows=df.shape[0])"
   ]
  },
  {
   "cell_type": "code",
   "execution_count": null,
   "metadata": {},
   "outputs": [],
   "source": [
    "prediction = baseregressor.predict(X_test)"
   ]
  },
  {
   "cell_type": "code",
   "execution_count": null,
   "metadata": {},
   "outputs": [],
   "source": [
    "residuals = y_test2 - pred2"
   ]
  },
  {
   "cell_type": "code",
   "execution_count": null,
   "metadata": {},
   "outputs": [],
   "source": [
    "px.histogram(residuals)"
   ]
  },
  {
   "cell_type": "code",
   "execution_count": null,
   "metadata": {},
   "outputs": [],
   "source": [
    "testdf[testdf.index.isin(residuals.index.values)].traff_m1.median()"
   ]
  },
  {
   "cell_type": "code",
   "execution_count": null,
   "metadata": {},
   "outputs": [],
   "source": [
    "list1 = [1, 2,3]\n",
    "list2 = [3,4,5]"
   ]
  },
  {
   "cell_type": "code",
   "execution_count": null,
   "metadata": {},
   "outputs": [],
   "source": [
    "np.append(list1, list2)"
   ]
  },
  {
   "cell_type": "code",
   "execution_count": null,
   "metadata": {},
   "outputs": [],
   "source": [
    "boruta_appearance, boruta_importance = feature_selection.boruta(X_train, y_train, iterations=20)"
   ]
  },
  {
   "cell_type": "code",
   "execution_count": null,
   "metadata": {},
   "outputs": [],
   "source": [
    "boruta_features = (boruta_appearance + boruta_importance)[boruta_appearance.where(lambda x: x >= 2).dropna().index]\n",
    "fig = px.bar(boruta_features.sort_values(ascending=False))\n",
    "fig.update_layout(title='Boruta feature importance',\n",
    "    template='plotly_dark',plot_bgcolor='rgb(42, 56, 61)',paper_bgcolor='rgb(42, 56, 61)', \n",
    "                  font=dict(color=\"white\", size=18, ), width=1100, height=600, showlegend=False)\n",
    "fig.update_xaxes(tickangle=45, title_text='')\n",
    "fig.update_yaxes(title_text='')\n",
    "fig.show()"
   ]
  },
  {
   "cell_type": "code",
   "execution_count": null,
   "metadata": {},
   "outputs": [],
   "source": [
    "boruta_features.sort_values(ascending=False)"
   ]
  },
  {
   "cell_type": "code",
   "execution_count": null,
   "metadata": {},
   "outputs": [],
   "source": [
    "baseregressor.fit(X_train[list(boruta_features.index)], y_train)\n",
    "dddf = X_test[list(boruta_features.index)]\n",
    "pred = baseregressor.predict(dddf)\n",
    "print(f\"All features RMSE:\\t{score_rmse(y_test, pred): .3f}\")\n",
    "print(f\"R^2:\\t{r2_score(y_test, pred): .3f}\")\n",
    "print(f\"Max Error:\\t{max_error(y_test, pred): .3f}\")\n",
    "print(f\"Var:\\t{explained_variance_score(y_test, pred): .3f}\")"
   ]
  },
  {
   "cell_type": "code",
   "execution_count": null,
   "metadata": {},
   "outputs": [],
   "source": [
    "feat = feature_selection.correlation(traindf.drop(columns=['station', 'city']), 'target',threshold=0.2).abs().sort_values(ascending=False).index"
   ]
  },
  {
   "cell_type": "code",
   "execution_count": null,
   "metadata": {},
   "outputs": [],
   "source": [
    "xtset = set(feat)\n",
    "xtrset = set(boruta_features.index)\n",
    "final_features = set.union(xtset, xtrset)"
   ]
  },
  {
   "cell_type": "code",
   "execution_count": null,
   "metadata": {},
   "outputs": [],
   "source": [
    "len(final_features)"
   ]
  },
  {
   "cell_type": "code",
   "execution_count": null,
   "metadata": {},
   "outputs": [],
   "source": [
    "baseregressor.fit(X_train[list(final_features)], y_train)\n",
    "dddf = X_test[list(final_features)]\n",
    "pred = baseregressor.predict(dddf)\n",
    "print(f\"All features RMSE:\\t{score_rmse(y_test, pred): .3f}\")\n",
    "print(f\"R^2:\\t{r2_score(y_test, pred): .3f}\")\n",
    "print(f\"Max Error:\\t{max_error(y_test, pred): .3f}\")\n",
    "print(f\"Var:\\t{explained_variance_score(y_test, pred): .3f}\")"
   ]
  },
  {
   "cell_type": "code",
   "execution_count": null,
   "metadata": {},
   "outputs": [],
   "source": [
    "std = 2\n",
    "X_train, y_train = traindf[traindf.traff_std <= std].drop(columns=['station', 'city']), traindf[traindf.traff_std <= std].target\n",
    "X_test, y_test = testdf[testdf.traff_std <= std].drop(columns=['station', 'city']), testdf[testdf.traff_std <= std].target\n",
    "\n",
    "\n",
    "baseregressor = LGBMRegressor()\n",
    "baseregressor.fit(X_train, y_train)\n",
    "pred1 = baseregressor.predict(X_test)\n",
    "\n",
    "print(f\"All features RMSE:\\t{score_rmse(y_test, pred1): .3f}\")\n",
    "print(f\"R^2:\\t{r2_score(y_test, pred1): .3f}\")\n",
    "print(f\"Max Error:\\t{max_error(y_test, pred1): .3f}\")\n",
    "print(f\"Var:\\t{explained_variance_score(y_test, pred1): .3f}\")"
   ]
  },
  {
   "cell_type": "code",
   "execution_count": null,
   "metadata": {},
   "outputs": [],
   "source": [
    "fig = scatter_against_target_fig(\n",
    "    traindf[list(boruta_features.sort_values(ascending=False).index) + ['target']], cols=3,\n",
    "    sample=2000)\n",
    "fig.update_layout(template='plotly_dark',plot_bgcolor='rgb(42, 56, 61)',paper_bgcolor='rgb(42, 56, 61)', \n",
    "                  font=dict(color=\"white\", size=18, ), height=2000, showlegend=False)\n",
    "# fig.show()\n",
    "fig.write_html('scatter.html')"
   ]
  },
  {
   "cell_type": "code",
   "execution_count": null,
   "metadata": {},
   "outputs": [],
   "source": [
    "boruta_features.index"
   ]
  },
  {
   "cell_type": "markdown",
   "metadata": {},
   "source": [
    "### Recursive feature elimination with cross-validation"
   ]
  },
  {
   "cell_type": "code",
   "execution_count": null,
   "metadata": {},
   "outputs": [],
   "source": [
    "from sklearn.feature_selection import RFECV\n",
    "\n",
    "rfecv = RFECV(estimator=LGBMRegressor(), step=1, cv=5,\n",
    "              scoring='neg_root_mean_squared_error',\n",
    "              min_features_to_select=1)\n",
    "rfecv.fit(traindf[boruta_features.index], traindf.target);"
   ]
  },
  {
   "cell_type": "code",
   "execution_count": null,
   "metadata": {},
   "outputs": [],
   "source": [
    "boruta_features.index[rfecv.support_]"
   ]
  },
  {
   "cell_type": "code",
   "execution_count": null,
   "metadata": {},
   "outputs": [],
   "source": [
    "fig = px.line(rfecv.grid_scores_, title='Score vs Number of features',)\n",
    "fig.update_layout(showlegend=False)"
   ]
  },
  {
   "cell_type": "code",
   "execution_count": null,
   "metadata": {},
   "outputs": [],
   "source": [
    "features_base = ['traff_m1', 'traff_mean', 'traff_m5']"
   ]
  },
  {
   "cell_type": "code",
   "execution_count": null,
   "metadata": {},
   "outputs": [],
   "source": [
    "baseregressor.fit(X_train[features_base], y_train)\n",
    "print(f\"Base features RMSE:\\t{score_rmse(y_test, baseregressor.predict(X_test[features_base])): .3f}\")"
   ]
  },
  {
   "cell_type": "code",
   "execution_count": null,
   "metadata": {},
   "outputs": [],
   "source": [
    "other_non_traffic_features = [x for x in boruta_features.index if not x.startswith('traff')]"
   ]
  },
  {
   "cell_type": "code",
   "execution_count": null,
   "metadata": {},
   "outputs": [],
   "source": [
    "result = feature_selection.grid_search(traindf, features_base, other_non_traffic_features,max_count_to_add=2)"
   ]
  },
  {
   "cell_type": "code",
   "execution_count": null,
   "metadata": {},
   "outputs": [],
   "source": [
    "result[0].sort_values(ascending=False)[:10]"
   ]
  },
  {
   "cell_type": "code",
   "execution_count": null,
   "metadata": {},
   "outputs": [],
   "source": [
    "result[1].sort_values(ascending=False)[:10]"
   ]
  },
  {
   "cell_type": "code",
   "execution_count": null,
   "metadata": {},
   "outputs": [],
   "source": [
    "pd.DataFrame((X_train[boruta_features.index].isnull().mean() * 100).apply(lambda x: round(x, 3))).sort_values(by=0)"
   ]
  },
  {
   "cell_type": "code",
   "execution_count": null,
   "metadata": {},
   "outputs": [],
   "source": [
    "features_selected = features_base + ['device_price', 'imei_mean_day_announced']"
   ]
  },
  {
   "cell_type": "code",
   "execution_count": null,
   "metadata": {},
   "outputs": [],
   "source": [
    "baseregressor.fit(X_train[features_selected], y_train)\n",
    "print(f\"Selected features RMSE:\\t{score_rmse(y_test, baseregressor.predict(X_test[features_selected])): .3f}\")"
   ]
  }
 ],
 "metadata": {
  "kernelspec": {
   "display_name": "venv",
   "language": "python",
   "name": "venv"
  },
  "language_info": {
   "codemirror_mode": {
    "name": "ipython",
    "version": 3
   },
   "file_extension": ".py",
   "mimetype": "text/x-python",
   "name": "python",
   "nbconvert_exporter": "python",
   "pygments_lexer": "ipython3",
   "version": "3.8.2"
  }
 },
 "nbformat": 4,
 "nbformat_minor": 4
}
