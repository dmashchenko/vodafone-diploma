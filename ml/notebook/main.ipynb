{
 "cells": [
  {
   "cell_type": "code",
   "execution_count": null,
   "metadata": {},
   "outputs": [],
   "source": [
    "import os\n",
    "import sys\n",
    "PROJ_ROOT = os.path.abspath(os.path.join(os.pardir))\n",
    "sys.path.append(os.path.join(PROJ_ROOT, 'src'))\n",
    "\n",
    "%matplotlib inline\n",
    "%config InlineBackend.figure_format ='retina'\n",
    "\n",
    "%load_ext autoreload\n",
    "%autoreload 2\n",
    "\n",
    "%aimport data, model, features, plot\n",
    "\n",
    "import pandas as pd\n",
    "import numpy as np\n",
    "import plotly.graph_objects as go\n",
    "import plotly.express as px\n",
    "\n",
    "\n",
    "from plot.plot import scatter_against_target_fig\n",
    "\n",
    "import features.selection as feature_selection\n",
    "import features.extraction as feature_extraction\n",
    "\n",
    "from model.selection import estimate, grid_search_cv\n",
    "from model.evaluation import score_rmse\n",
    "from sklearn.metrics import r2_score, max_error, explained_variance_score\n",
    "\n",
    "from lightgbm import LGBMRegressor\n",
    "from sklearn.ensemble import HistGradientBoostingRegressor"
   ]
  },
  {
   "cell_type": "code",
   "execution_count": null,
   "metadata": {},
   "outputs": [],
   "source": [
    "from data.dataset import DataSet\n",
    "\n",
    "traindf = DataSet.traindf\n",
    "testdf = DataSet.testdf\n",
    "\n",
    "print(f\"train:\\t{traindf.shape}\\ntest:\\t{testdf.shape}\")"
   ]
  },
  {
   "cell_type": "code",
   "execution_count": null,
   "metadata": {},
   "outputs": [],
   "source": [
    "cluster_stats, cluster_median_trends, cluster_mean_trends = feature_extraction\\\n",
    "                                                                .calculate_statistics_by_cluster(traindf, 'city')\n",
    "\n",
    "feature_extraction.apply_cluster_statistics(traindf, 'city', cluster_stats, cluster_median_trends, cluster_mean_trends)\n",
    "\n",
    "feature_extraction.apply_cluster_statistics(testdf, 'city', cluster_stats, cluster_median_trends, cluster_mean_trends)\n"
   ]
  },
  {
   "cell_type": "code",
   "execution_count": null,
   "metadata": {},
   "outputs": [],
   "source": [
    "X_train, y_train = pd.get_dummies(traindf.drop(columns=['target', 'station']), prefix='', prefix_sep=''), traindf.target\n",
    "X_test, y_test = pd.get_dummies(testdf.drop(columns=['target', 'station']), prefix='', prefix_sep=''), testdf.target"
   ]
  },
  {
   "cell_type": "markdown",
   "metadata": {},
   "source": [
    "## Baseline:"
   ]
  },
  {
   "cell_type": "code",
   "execution_count": null,
   "metadata": {},
   "outputs": [],
   "source": [
    "from sklearn.metrics import r2_score, max_error, explained_variance_score\n",
    "print(f\"Base line RMSE:\\t\\t{score_rmse(y_test, X_test.traff_mean):.3f}\")\n",
    "print(f\"R^2:\\t{r2_score(y_test, X_test.traff_mean): .3f}\")\n",
    "print(f\"Max Error:\\t{max_error(y_test, X_test.traff_mean): .3f}\")\n",
    "print(f\"Var:\\t{explained_variance_score(y_test, X_test.traff_mean): .3f}\")"
   ]
  },
  {
   "cell_type": "code",
   "execution_count": null,
   "metadata": {},
   "outputs": [],
   "source": [
    "baseregressor = LGBMRegressor()\n",
    "baseregressor.fit(X_train[feat], y_train)\n",
    "pred = baseregressor.predict(X_test[feat])\n",
    "print(f\"All features RMSE:\\t{score_rmse(y_test, pred): .3f}\")\n",
    "print(f\"R^2:\\t{r2_score(y_test, pred): .3f}\")\n",
    "print(f\"Max Error:\\t{max_error(y_test, pred): .3f}\")\n",
    "print(f\"Var:\\t{explained_variance_score(y_test, pred): .3f}\")"
   ]
  },
  {
   "cell_type": "code",
   "execution_count": null,
   "metadata": {},
   "outputs": [],
   "source": [
    "boruta_appearance, boruta_importance = feature_selection.boruta(X_train, y_train, iterations=20)"
   ]
  },
  {
   "cell_type": "code",
   "execution_count": null,
   "metadata": {},
   "outputs": [],
   "source": [
    "boruta_features = (boruta_appearance + boruta_importance)[boruta_appearance.where(lambda x: x >= 2).dropna().index]\n",
    "fig = px.bar(boruta_features.sort_values(ascending=False))\n",
    "fig.update_layout(title='Boruta feature importance',\n",
    "    template='plotly_dark',plot_bgcolor='rgb(42, 56, 61)',paper_bgcolor='rgb(42, 56, 61)', \n",
    "                  font=dict(color=\"white\", size=18, ), width=1100, height=600, showlegend=False)\n",
    "fig.update_xaxes(tickangle=45, title_text='')\n",
    "fig.update_yaxes(title_text='')\n",
    "fig.show()"
   ]
  },
  {
   "cell_type": "code",
   "execution_count": null,
   "metadata": {},
   "outputs": [],
   "source": [
    "fig = scatter_against_target_fig(\n",
    "    traindf[list(boruta_features.sort_values(ascending=False).index) + ['target']], cols=3,\n",
    "    sample=2000)\n",
    "fig.update_layout(template='plotly_dark',plot_bgcolor='rgb(42, 56, 61)',paper_bgcolor='rgb(42, 56, 61)', \n",
    "                  font=dict(color=\"white\", size=18, ), height=2000, showlegend=False)\n",
    "fig.show()"
   ]
  },
  {
   "cell_type": "code",
   "execution_count": null,
   "metadata": {},
   "outputs": [],
   "source": [
    "features_selected = ['city_cluster_last_month_std',\n",
    " 'non_accum_internet_vol_td_mnt3',\n",
    " 'traff_m4',\n",
    " 'city_cluster_mean_td',\n",
    " 'non_accum_internet_vol_max_mnt1',\n",
    " 'device_days_usage',\n",
    " 'non_accum_internet_vol_std_mnt1',\n",
    " 'bs_succ_rate',\n",
    " 'city_cluster_last_month_median',\n",
    " 'non_accum_internet_vol_min_mnt1',\n",
    " 'imei_mean_day_announced',\n",
    " 'MV_Traf_4G_d_Mb',\n",
    " 'data_3g_tar_vol_std_mnt3',\n",
    " 'dpi_events',\n",
    " 'myvf_day_usage',\n",
    " 'non_accum_internet_vol_max_mnt3',\n",
    " 'non_accum_internet_vol_min_mnt3',\n",
    " 'non_accum_internet_vol_mea_mnt1',\n",
    " 'imei_mean_days_usage',\n",
    " 'cnt_sms_category_microcred',\n",
    " 'traff_td',\n",
    " 'non_accum_internet_vol_mea_wk1',\n",
    " 'dpi_upload',\n",
    " 'traff_std',\n",
    " 'dpi_download',\n",
    " 'non_accum_internet_vol_mea_mnt3',\n",
    " 'imei_max_price',\n",
    " 'non_accum_internet_vol_std_mnt3',\n",
    " 'traff_min',\n",
    " 'city_cluster_last_month_min',\n",
    " 'traff_max',\n",
    " 'city_cluster_last_month_max',\n",
    " 'imei_mean_long_days_usage',\n",
    " 'traff_mean',\n",
    " 'content_cnt_std_mnt3',\n",
    " 'traff_m3',\n",
    " 'traff_m1',\n",
    " 'traff_m5',\n",
    " 'loc_lon',\n",
    " 'city_cluster_median_td',\n",
    " 'traff_median',\n",
    " 'device_price',\n",
    " 'MV_ap_4G_d',\n",
    " 'city_cluster_last_month_mean']"
   ]
  },
  {
   "cell_type": "code",
   "execution_count": null,
   "metadata": {},
   "outputs": [],
   "source": [
    "X_train, y_train = traindf[features_selected], traindf.target\n",
    "X_test, y_test = testdf[features_selected], testdf.target\n",
    "\n",
    "print(f\"train:\\t{traindf.shape}\")\n",
    "print(f\"test:\\t{testdf.shape}\")"
   ]
  },
  {
   "cell_type": "markdown",
   "metadata": {},
   "source": [
    "## Model selection:"
   ]
  },
  {
   "cell_type": "code",
   "execution_count": null,
   "metadata": {},
   "outputs": [],
   "source": [
    "baseregressor = LGBMRegressor()\n",
    "baseregressor.fit(X_train, y_train)\n",
    "print(f\"RMSE:\\t{score_rmse(y_test, baseregressor.predict(X_test)): .3f}\")"
   ]
  },
  {
   "cell_type": "code",
   "execution_count": null,
   "metadata": {},
   "outputs": [],
   "source": [
    "mediandf = traindf[features_selected + ['target']].fillna(traindf[features_selected + ['target']].mean())\n",
    "estimate(mediandf,rows=249876)"
   ]
  },
  {
   "cell_type": "code",
   "execution_count": null,
   "metadata": {},
   "outputs": [],
   "source": [
    "hgbr = HistGradientBoostingRegressor()\n",
    "hgbr.fit(X_train, y_train)\n",
    "pred = hgbr.predict(X_test)\n",
    "print(f\"RMSE:\\t{score_rmse(y_test, pred): .3f}\")\n",
    "print(f\"R^2:\\t{r2_score(y_test, pred): .3f}\")\n",
    "print(f\"Max Error:\\t{max_error(y_test, pred): .3f}\")"
   ]
  },
  {
   "cell_type": "code",
   "execution_count": null,
   "metadata": {},
   "outputs": [],
   "source": [
    "lgbm = LGBMRegressor()\n",
    "lgbm.fit(X_train, y_train)\n",
    "pred = lgbm.predict(X_test)\n",
    "print(f\"RMSE:\\t{score_rmse(y_test, pred): .3f}\")\n",
    "print(f\"R^2:\\t{r2_score(y_test, pred): .3f}\")\n",
    "print(f\"Max Error:\\t{max_error(y_test, pred): .3f}\")"
   ]
  },
  {
   "cell_type": "markdown",
   "metadata": {},
   "source": [
    "## Hyperparameters tuning:"
   ]
  },
  {
   "cell_type": "code",
   "execution_count": null,
   "metadata": {},
   "outputs": [],
   "source": [
    "from sklearn.model_selection import GridSearchCV\n",
    "\n",
    "params = {\n",
    "              'colsample_bytree': [0.8],\n",
    "              'learning_rate': [0.015],\n",
    "              'max_depth': [5],\n",
    "              'min_child_samples': [200],\n",
    "#               'min_child_weight': [0.001],\n",
    "              'min_split_gain': [0.05],\n",
    "              'n_estimators': [200],\n",
    "              'num_leaves': [30],\n",
    "#               'objective': None,\n",
    "#               'random_state': None,\n",
    "#               'reg_alpha': [0],\n",
    "              'reg_lambda': [0.3],\n",
    "#               'subsample': [0.5],\n",
    "              'subsample_for_bin': [100000],\n",
    "#               'subsample_freq': [0]\n",
    "         }\n",
    "\n",
    "best_estimator, scaler = grid_search_cv(traindf[features_selected + ['target']], \n",
    "                                        LGBMRegressor(random_state=1), \n",
    "                                        params,rows=249876)"
   ]
  },
  {
   "cell_type": "code",
   "execution_count": null,
   "metadata": {},
   "outputs": [],
   "source": [
    "pred = best_estimator.predict(scaler.transform(X_test))\n",
    "print(f\"RMSE:\\t{score_rmse(y_test, pred): .3f}\")\n",
    "print(f\"R^2:\\t{r2_score(y_test, pred): .3f}\")\n",
    "print(f\"Max Error:\\t{max_error(y_test, pred): .3f}\")"
   ]
  },
  {
   "cell_type": "code",
   "execution_count": null,
   "metadata": {},
   "outputs": [],
   "source": [
    "testdf['prediction'] = pred\n",
    "residuals = y_test - pred\n",
    "traff_plot_df = testdf[testdf.index.isin(residuals.where(lambda x: abs(x) > 100 ).dropna().index)]"
   ]
  },
  {
   "cell_type": "code",
   "execution_count": null,
   "metadata": {},
   "outputs": [],
   "source": [
    "from plot.plot import traffic_parallel_coords\n",
    "fig = traffic_parallel_coords(traff_plot_df, max_value=200.0, range=[0.6, 0.8])\n",
    "fig.update_layout(template='plotly_dark',plot_bgcolor='rgb(42, 56, 61)',paper_bgcolor='rgb(42, 56, 61)', \n",
    "                  font=dict(color=\"white\", size=18, ), width=1100, height=600)"
   ]
  }
 ],
 "metadata": {
  "kernelspec": {
   "display_name": "venv",
   "language": "python",
   "name": "venv"
  },
  "language_info": {
   "codemirror_mode": {
    "name": "ipython",
    "version": 3
   },
   "file_extension": ".py",
   "mimetype": "text/x-python",
   "name": "python",
   "nbconvert_exporter": "python",
   "pygments_lexer": "ipython3",
   "version": "3.8.2"
  }
 },
 "nbformat": 4,
 "nbformat_minor": 4
}
