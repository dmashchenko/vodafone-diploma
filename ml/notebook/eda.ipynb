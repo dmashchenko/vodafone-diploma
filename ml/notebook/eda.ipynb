{
 "cells": [
  {
   "cell_type": "code",
   "execution_count": null,
   "metadata": {},
   "outputs": [],
   "source": [
    "import os\n",
    "import sys\n",
    "PROJ_ROOT = os.path.abspath(os.path.join(os.pardir))\n",
    "sys.path.append(os.path.join(PROJ_ROOT, 'src'))\n",
    "\n",
    "%matplotlib inline\n",
    "%config InlineBackend.figure_format ='retina'\n",
    "\n",
    "%load_ext autoreload\n",
    "%autoreload 2\n",
    "\n",
    "%aimport data, model, features, plot\n",
    "\n",
    "import pandas as pd\n",
    "import numpy as np\n",
    "import missingno as msno\n",
    "import seaborn as sns\n",
    "import matplotlib.pyplot as plt\n",
    "import plotly.graph_objects as go\n",
    "import plotly.express as px\n",
    "\n",
    "from model.baselineestimator import estimate\n",
    "from model.training import train\n",
    "from model.evaluation import evaluate, score\n",
    "import features.selection as feature_selection\n",
    "from features.impute import Imputer\n",
    "from features.extraction import extract\n",
    "from data import dataset\n",
    "from plot import traffic as plot_traffic"
   ]
  },
  {
   "cell_type": "code",
   "execution_count": null,
   "metadata": {},
   "outputs": [],
   "source": [
    "from data.dataset import DataSet\n",
    "\n",
    "traindf = DataSet.traindf\n",
    "testdf = DataSet.testdf"
   ]
  },
  {
   "cell_type": "code",
   "execution_count": null,
   "metadata": {},
   "outputs": [],
   "source": [
    "px.parallel_coordinates(traindf.sample(10000), color=\"target\",\n",
    "                              dimensions=['traff_m1', 'traff_m2', 'traff_m3', 'traff_m4', 'traff_m5', 'target'],\n",
    "                              color_continuous_scale=px.colors.sequential.Rainbow).show()"
   ]
  },
  {
   "cell_type": "code",
   "execution_count": null,
   "metadata": {},
   "outputs": [],
   "source": [
    "from config.constants import RAW_DATA_DIR\n",
    "df1 = pd.read_sas(RAW_DATA_DIR / 'hash_school_device_dpi.sas7bdat', index='abon_id')\n",
    "df2 = pd.read_sas(RAW_DATA_DIR / 'hash_school_device_test_dpi.sas7bdat', index='abon_id')"
   ]
  },
  {
   "cell_type": "code",
   "execution_count": null,
   "metadata": {},
   "outputs": [],
   "source": [
    "ids = set(df1[df1.Application.isin([307,373, 806, 889]) & (df1.MAX_of_day_cnt > 25)].index)\n",
    "ids2 = set(df2[df2.Application.isin([307,373, 806, 889]) & (df2.MAX_of_day_cnt > 25)].index)"
   ]
  },
  {
   "cell_type": "code",
   "execution_count": null,
   "metadata": {},
   "outputs": [],
   "source": [
    "idscons = ids.union(ids2)"
   ]
  },
  {
   "cell_type": "code",
   "execution_count": null,
   "metadata": {},
   "outputs": [],
   "source": [
    "px.scatter(df1, x='Application', y='SUM_of_Volume_kb')"
   ]
  }
 ],
 "metadata": {
  "kernelspec": {
   "display_name": "venv",
   "language": "python",
   "name": "venv"
  },
  "language_info": {
   "codemirror_mode": {
    "name": "ipython",
    "version": 3
   },
   "file_extension": ".py",
   "mimetype": "text/x-python",
   "name": "python",
   "nbconvert_exporter": "python",
   "pygments_lexer": "ipython3",
   "version": "3.8.2"
  }
 },
 "nbformat": 4,
 "nbformat_minor": 4
}
