{
 "cells": [
  {
   "cell_type": "code",
   "execution_count": 2,
   "metadata": {},
   "outputs": [
    {
     "name": "stdout",
     "output_type": "stream",
     "text": [
      "The autoreload extension is already loaded. To reload it, use:\n",
      "  %reload_ext autoreload\n"
     ]
    }
   ],
   "source": [
    "import os\n",
    "import sys\n",
    "PROJ_ROOT = os.path.abspath(os.path.join(os.pardir))\n",
    "sys.path.append(os.path.join(PROJ_ROOT, 'src'))\n",
    "\n",
    "%matplotlib inline\n",
    "%config InlineBackend.figure_format ='retina'\n",
    "\n",
    "%load_ext autoreload\n",
    "%autoreload 2\n",
    "\n",
    "%aimport data, model, features, plot\n",
    "\n",
    "import pandas as pd\n",
    "import numpy as np\n",
    "import missingno as msno\n",
    "import seaborn as sns\n",
    "import matplotlib.pyplot as plt\n",
    "import plotly.graph_objects as go\n",
    "import plotly.express as px\n",
    "from plot.plot import scatter_against_target_fig\n",
    "\n",
    "from model.selection import estimate\n",
    "from model.evaluation import score_rmse\n",
    "from model.training import train\n",
    "from features.selection import boruta\n",
    "import features.selection as feature_selection\n",
    "import features.extraction as feature_extraction"
   ]
  },
  {
   "cell_type": "code",
   "execution_count": 111,
   "metadata": {},
   "outputs": [],
   "source": [
    "from sklearn.experimental import enable_hist_gradient_boosting\n",
    "from sklearn.linear_model import ElasticNet, Lasso\n",
    "from sklearn.neighbors import KNeighborsRegressor\n",
    "from sklearn.model_selection import train_test_split\n",
    "from lightgbm import LGBMRegressor\n",
    "from sklearn.ensemble import HistGradientBoostingRegressor, StackingRegressor, VotingRegressor, GradientBoostingRegressor\n",
    "from sklearn.model_selection import cross_val_score\n",
    "from sklearn.preprocessing import StandardScaler"
   ]
  },
  {
   "cell_type": "code",
   "execution_count": 13,
   "metadata": {},
   "outputs": [],
   "source": [
    "features_selected = ['traff_m1', 'traff_mean', 'traff_m5', 'MV_ap_4G_d', 'bs_succ_rate', 'device_price']"
   ]
  },
  {
   "cell_type": "code",
   "execution_count": 12,
   "metadata": {},
   "outputs": [],
   "source": [
    "from data.dataset import DataSet\n",
    "\n",
    "traindf = DataSet.traindf[np.unique(DataSet.traindf.columns)]\n",
    "testdf = DataSet.testdf[np.unique(DataSet.testdf.columns)]\n",
    "\n",
    "X_train, y_train = traindf[features_selected], traindf.target\n",
    "X_test, y_test = testdf[features_selected], testdf.target"
   ]
  },
  {
   "cell_type": "code",
   "execution_count": 4,
   "metadata": {},
   "outputs": [
    {
     "name": "stdout",
     "output_type": "stream",
     "text": [
      "train:\t(249876, 915)\n",
      "test:\t(242972, 915)\n"
     ]
    }
   ],
   "source": [
    "print(f\"train:\\t{traindf.shape}\")\n",
    "print(f\"test:\\t{testdf.shape}\")"
   ]
  },
  {
   "cell_type": "code",
   "execution_count": 119,
   "metadata": {},
   "outputs": [
    {
     "name": "stdout",
     "output_type": "stream",
     "text": [
      "RMSE:\t 8.700\n"
     ]
    }
   ],
   "source": [
    "baseregressor = LGBMRegressor()\n",
    "baseregressor.fit(X_train[features_selected], y_train)\n",
    "print(f\"RMSE:\\t{score_rmse(y_test, baseregressor.predict(X_test[features_selected])): .3f}\")"
   ]
  },
  {
   "cell_type": "code",
   "execution_count": 109,
   "metadata": {},
   "outputs": [
    {
     "name": "stdout",
     "output_type": "stream",
     "text": [
      "LinearRegression              \t\t RMSE: -546.561\t\t\t STD:  1075.86\n",
      "SGDRegressor                  \t\t RMSE: -807130.587\t\t\t STD:  444672.53\n",
      "Lasso                         \t\t RMSE: -8.733\t\t\t STD:  0.15\n",
      "Ridge                         \t\t RMSE: -54.609\t\t\t STD:  91.96\n",
      "LassoLars                     \t\t RMSE: -11.812\t\t\t STD:  0.10\n",
      "ElasticNet                    \t\t RMSE: -8.957\t\t\t STD:  0.09\n",
      "BayesianRidge                 \t\t RMSE: -544.891\t\t\t STD:  1072.52\n",
      "HuberRegressor                \t\t RMSE: -364.970\t\t\t STD:  712.48\n",
      "RANSACRegressor               \t\t RMSE: -24.005\t\t\t STD:  27.86\n",
      "PoissonRegressor              \t\t RMSE: -44214.815\t\t\t STD:  88406.49\n",
      "TweedieRegressor              \t\t RMSE: -9.164\t\t\t STD:  0.09\n",
      "PassiveAggressiveRegressor    \t\t RMSE: -26.123\t\t\t STD:  33.94\n",
      "DecisionTreeRegressor         \t\t RMSE: -12.187\t\t\t STD:  0.14\n",
      "BaggingRegressor              \t\t RMSE: -8.982\t\t\t STD:  0.12\n",
      "ExtraTreesRegressor           \t\t RMSE: -8.640\t\t\t STD:  0.12\n",
      "GradientBoostingRegressor     \t\t RMSE: -8.375\t\t\t STD:  0.12\n",
      "HistGradientBoostingRegressor \t\t RMSE: -8.402\t\t\t STD:  0.10\n",
      "KNeighborsRegressor           \t\t RMSE: -9.161\t\t\t STD:  0.11\n",
      "LinearSVR                     \t\t RMSE: -9.607\t\t\t STD:  1.70\n",
      "XGBRegressor                  \t\t RMSE: -8.662\t\t\t STD:  0.11\n",
      "LGBMRegressor                 \t\t RMSE: -8.453\t\t\t STD:  0.11\n",
      "CatBoostRegressor             \t\t RMSE: -8.553\t\t\t STD:  0.12\n",
      "PolynomialRegression          \t\t RMSE: -2254.327\t\t\t STD:  4490.53\n"
     ]
    }
   ],
   "source": [
    "mediandf = traindf[features_selected + ['target']].fillna(traindf[features_selected + ['target']].mean())\n",
    "estimate(mediandf,rows=100000)"
   ]
  },
  {
   "cell_type": "code",
   "execution_count": 105,
   "metadata": {},
   "outputs": [
    {
     "name": "stdout",
     "output_type": "stream",
     "text": [
      "HistGradientBoostingRegressor RMSE:\t 8.673\n"
     ]
    }
   ],
   "source": [
    "hgrb_regressor = HistGradientBoostingRegressor()\n",
    "hgrb_regressor.fit(X_train[features_selected], y_train)\n",
    "print(f\"HistGradientBoostingRegressor RMSE:\\t{score_rmse(y_test, hgrb_regressor.predict(X_test[features_selected])): .3f}\")"
   ]
  },
  {
   "cell_type": "code",
   "execution_count": 106,
   "metadata": {},
   "outputs": [
    {
     "name": "stdout",
     "output_type": "stream",
     "text": [
      "StackingRegressor RMSE:\t 8.679\n"
     ]
    }
   ],
   "source": [
    "st_regressor = StackingRegressor([('lgbm', LGBMRegressor()), ('hgrb', HistGradientBoostingRegressor())])\n",
    "st_regressor.fit(X_train[features_selected], y_train)\n",
    "print(f\"StackingRegressor RMSE:\\t{score_rmse(y_test, st_regressor.predict(X_test[features_selected])) : .3f}\")"
   ]
  },
  {
   "cell_type": "markdown",
   "metadata": {},
   "source": [
    "### LGBMRegressor is selected as the base regressor because it's a production-ready solution and fast"
   ]
  },
  {
   "cell_type": "code",
   "execution_count": 292,
   "metadata": {},
   "outputs": [
    {
     "data": {
      "text/plain": [
       "GridSearchCV(cv=5, estimator=LGBMRegressor(), n_jobs=-1,\n",
       "             param_grid={'boosting_type': ['gbdt'], 'colsample_bytree': [1.0],\n",
       "                         'importance_type': ['split'],\n",
       "                         'learning_rate': [0.05, 0.1], 'max_depth': [3, 6],\n",
       "                         'min_child_samples': [20], 'min_child_weight': [0.001],\n",
       "                         'min_split_gain': [0.0],\n",
       "                         'n_estimators': [100, 200, 300, 500], 'n_jobs': [-1],\n",
       "                         'num_leaves': [31], 'reg_alpha': [0.0],\n",
       "                         'reg_lambda': [0.0], 'subsample': [1.0],\n",
       "                         'subsample_for_bin': [200000], 'subsample_freq': [0]},\n",
       "             scoring='neg_root_mean_squared_error')"
      ]
     },
     "execution_count": 292,
     "metadata": {},
     "output_type": "execute_result"
    }
   ],
   "source": [
    "from sklearn.model_selection import GridSearchCV\n",
    "\n",
    "param_grid = {'boosting_type': ['gbdt'],\n",
    "#               'class_weight': None,\n",
    "              'colsample_bytree': [1.0],\n",
    "              'importance_type': ['split'],\n",
    "              'learning_rate': [0.05, 0.1],\n",
    "              'max_depth': [3,6],\n",
    "              'min_child_samples': [20],\n",
    "              'min_child_weight': [0.001],\n",
    "              'min_split_gain': [0.0],\n",
    "              'n_estimators': [100,200,300,500],\n",
    "              'n_jobs': [-1],\n",
    "              'num_leaves': [31],\n",
    "#               'objective': None,\n",
    "#               'random_state': None,\n",
    "              'reg_alpha': [0.0],\n",
    "              'reg_lambda': [0.0],\n",
    "              'subsample': [1.0],\n",
    "              'subsample_for_bin': [200000],\n",
    "              'subsample_freq': [0]}\n",
    "\n",
    "grid = GridSearchCV(LGBMRegressor(), cv=5, n_jobs=-1, param_grid=param_grid, scoring='neg_root_mean_squared_error')\n",
    "\n",
    "grid.fit(X_train[features_selected], y_train)"
   ]
  },
  {
   "cell_type": "code",
   "execution_count": 293,
   "metadata": {},
   "outputs": [
    {
     "data": {
      "text/plain": [
       "{'boosting_type': 'gbdt',\n",
       " 'colsample_bytree': 1.0,\n",
       " 'importance_type': 'split',\n",
       " 'learning_rate': 0.05,\n",
       " 'max_depth': 3,\n",
       " 'min_child_samples': 20,\n",
       " 'min_child_weight': 0.001,\n",
       " 'min_split_gain': 0.0,\n",
       " 'n_estimators': 200,\n",
       " 'n_jobs': -1,\n",
       " 'num_leaves': 31,\n",
       " 'reg_alpha': 0.0,\n",
       " 'reg_lambda': 0.0,\n",
       " 'subsample': 1.0,\n",
       " 'subsample_for_bin': 200000,\n",
       " 'subsample_freq': 0}"
      ]
     },
     "execution_count": 293,
     "metadata": {},
     "output_type": "execute_result"
    }
   ],
   "source": [
    "grid.best_params_"
   ]
  },
  {
   "cell_type": "code",
   "execution_count": 294,
   "metadata": {},
   "outputs": [
    {
     "data": {
      "text/plain": [
       "8.667221697119745"
      ]
     },
     "execution_count": 294,
     "metadata": {},
     "output_type": "execute_result"
    }
   ],
   "source": [
    "score_rmse(y_test, grid.predict(X_test[features_selected]))"
   ]
  }
 ],
 "metadata": {
  "kernelspec": {
   "display_name": "venv",
   "language": "python",
   "name": "venv"
  },
  "language_info": {
   "codemirror_mode": {
    "name": "ipython",
    "version": 3
   },
   "file_extension": ".py",
   "mimetype": "text/x-python",
   "name": "python",
   "nbconvert_exporter": "python",
   "pygments_lexer": "ipython3",
   "version": "3.8.2"
  }
 },
 "nbformat": 4,
 "nbformat_minor": 4
}
