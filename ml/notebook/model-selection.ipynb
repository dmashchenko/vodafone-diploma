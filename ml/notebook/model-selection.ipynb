{
 "cells": [
  {
   "cell_type": "code",
   "execution_count": null,
   "metadata": {},
   "outputs": [],
   "source": [
    "import os\n",
    "import sys\n",
    "PROJ_ROOT = os.path.abspath(os.path.join(os.pardir))\n",
    "sys.path.append(os.path.join(PROJ_ROOT, 'src'))\n",
    "\n",
    "%matplotlib inline\n",
    "%config InlineBackend.figure_format ='retina'\n",
    "\n",
    "%load_ext autoreload\n",
    "%autoreload 2\n",
    "\n",
    "%aimport data, model, features, plot\n",
    "\n",
    "import pandas as pd\n",
    "import numpy as np\n",
    "import plotly.graph_objects as go\n",
    "import plotly.express as px\n",
    "\n",
    "from sklearn.experimental import enable_hist_gradient_boosting\n",
    "from lightgbm import LGBMRegressor\n",
    "from sklearn.ensemble import HistGradientBoostingRegressor, StackingRegressor\n",
    "from sklearn.preprocessing import StandardScaler\n",
    "\n",
    "\n",
    "from model.selection import estimate, grid_search_cv\n",
    "from model.evaluation import score_rmse"
   ]
  },
  {
   "cell_type": "code",
   "execution_count": null,
   "metadata": {},
   "outputs": [],
   "source": [
    "features_selected = ['traff_m1', 'traff_mean', 'traff_m5', 'device_price', 'imei_mean_day_announced']"
   ]
  },
  {
   "cell_type": "code",
   "execution_count": null,
   "metadata": {},
   "outputs": [],
   "source": [
    "from data.dataset import DataSet\n",
    "\n",
    "traindf = DataSet.traindf[np.unique(DataSet.traindf.columns)]\n",
    "testdf = DataSet.testdf[np.unique(DataSet.testdf.columns)]\n",
    "\n",
    "X_train, y_train = traindf[features_selected], traindf.target\n",
    "X_test, y_test = testdf[features_selected], testdf.target"
   ]
  },
  {
   "cell_type": "code",
   "execution_count": null,
   "metadata": {},
   "outputs": [],
   "source": [
    "print(f\"train:\\t{traindf.shape}\")\n",
    "print(f\"test:\\t{testdf.shape}\")"
   ]
  },
  {
   "cell_type": "code",
   "execution_count": null,
   "metadata": {},
   "outputs": [],
   "source": [
    "baseregressor = LGBMRegressor()\n",
    "baseregressor.fit(X_train, y_train)\n",
    "print(f\"RMSE:\\t{score_rmse(y_test, baseregressor.predict(X_test)): .3f}\")"
   ]
  },
  {
   "cell_type": "code",
   "execution_count": null,
   "metadata": {},
   "outputs": [],
   "source": [
    "mediandf = traindf[features_selected + ['target']].fillna(traindf[features_selected + ['target']].mean())\n",
    "estimate(mediandf,rows=100000)"
   ]
  },
  {
   "cell_type": "code",
   "execution_count": null,
   "metadata": {},
   "outputs": [],
   "source": [
    "hgbr = HistGradientBoostingRegressor()\n",
    "hgbr.fit(X_train, y_train)\n",
    "print(f\"RMSE:\\t{score_rmse(y_test, hgbr.predict(X_test)): .3f}\")"
   ]
  },
  {
   "cell_type": "code",
   "execution_count": null,
   "metadata": {},
   "outputs": [],
   "source": [
    "st_regressor = StackingRegressor([('lgbm', LGBMRegressor()), ('hgrb', HistGradientBoostingRegressor())])\n",
    "st_regressor.fit(X_train[features_selected], y_train)\n",
    "print(f\"StackingRegressor RMSE:\\t{score_rmse(y_test, st_regressor.predict(X_test)) : .3f}\")"
   ]
  },
  {
   "cell_type": "markdown",
   "metadata": {},
   "source": [
    "### LGBMRegressor is selected as the base regressor because it's a production-ready solution and fast"
   ]
  },
  {
   "cell_type": "code",
   "execution_count": null,
   "metadata": {},
   "outputs": [],
   "source": [
    "from sklearn.model_selection import GridSearchCV\n",
    "\n",
    "params = {'boosting_type': ['gbdt'],\n",
    "              'colsample_bytree': [0.7],\n",
    "              'learning_rate': [0.025],\n",
    "              'max_depth': [4],\n",
    "              'min_child_samples': [200],\n",
    "              'min_child_weight': [0.001],\n",
    "              'min_split_gain': [0.05],\n",
    "              'n_estimators': [200],\n",
    "              'num_leaves': [20],\n",
    "#               'objective': None,\n",
    "#               'random_state': None,\n",
    "              'reg_alpha': [0.0],\n",
    "              'reg_lambda': [0.2],\n",
    "              'subsample': [0.5],\n",
    "              'subsample_for_bin': [100000],\n",
    "              'subsample_freq': [0]}\n",
    "\n",
    "best_estimator, scaler = grid_search_cv(traindf[features_selected + ['target']], LGBMRegressor(random_state=0), params,rows=249876)"
   ]
  },
  {
   "cell_type": "code",
   "execution_count": null,
   "metadata": {},
   "outputs": [],
   "source": [
    "score_rmse(y_test, best_estimator.predict(scaler.transform(X_test)))"
   ]
  }
 ],
 "metadata": {
  "kernelspec": {
   "display_name": "venv",
   "language": "python",
   "name": "venv"
  },
  "language_info": {
   "codemirror_mode": {
    "name": "ipython",
    "version": 3
   },
   "file_extension": ".py",
   "mimetype": "text/x-python",
   "name": "python",
   "nbconvert_exporter": "python",
   "pygments_lexer": "ipython3",
   "version": "3.8.2"
  }
 },
 "nbformat": 4,
 "nbformat_minor": 4
}
