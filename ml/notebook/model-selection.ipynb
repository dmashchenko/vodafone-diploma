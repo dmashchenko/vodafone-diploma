{
 "cells": [
  {
   "cell_type": "code",
   "execution_count": 3,
   "metadata": {},
   "outputs": [
    {
     "name": "stdout",
     "output_type": "stream",
     "text": [
      "The autoreload extension is already loaded. To reload it, use:\n",
      "  %reload_ext autoreload\n"
     ]
    }
   ],
   "source": [
    "import os\n",
    "import sys\n",
    "PROJ_ROOT = os.path.abspath(os.path.join(os.pardir))\n",
    "sys.path.append(os.path.join(PROJ_ROOT, 'src'))\n",
    "\n",
    "%matplotlib inline\n",
    "%config InlineBackend.figure_format ='retina'\n",
    "\n",
    "%load_ext autoreload\n",
    "%autoreload 2\n",
    "\n",
    "%aimport data, model, features, plot\n",
    "\n",
    "import pandas as pd\n",
    "import numpy as np\n",
    "import plotly.graph_objects as go\n",
    "import plotly.express as px\n",
    "\n",
    "from sklearn.experimental import enable_hist_gradient_boosting\n",
    "from lightgbm import LGBMRegressor\n",
    "from sklearn.ensemble import HistGradientBoostingRegressor, StackingRegressor\n",
    "from sklearn.preprocessing import StandardScaler\n",
    "\n",
    "\n",
    "from model.selection import estimate, grid_search_cv\n",
    "from model.evaluation import score_rmse"
   ]
  },
  {
   "cell_type": "code",
   "execution_count": 4,
   "metadata": {},
   "outputs": [],
   "source": [
    "features_selected = ['traff_m1', 'traff_mean', 'traff_m5', 'device_price', 'imei_mean_day_announced']"
   ]
  },
  {
   "cell_type": "code",
   "execution_count": 5,
   "metadata": {},
   "outputs": [],
   "source": [
    "from data.dataset import DataSet\n",
    "\n",
    "traindf = DataSet.traindf[np.unique(DataSet.traindf.columns)]\n",
    "testdf = DataSet.testdf[np.unique(DataSet.testdf.columns)]\n",
    "\n",
    "X_train, y_train = traindf[features_selected], traindf.target\n",
    "X_test, y_test = testdf[features_selected], testdf.target"
   ]
  },
  {
   "cell_type": "code",
   "execution_count": 6,
   "metadata": {},
   "outputs": [
    {
     "name": "stdout",
     "output_type": "stream",
     "text": [
      "train:\t(249876, 915)\n",
      "test:\t(242972, 915)\n"
     ]
    }
   ],
   "source": [
    "print(f\"train:\\t{traindf.shape}\")\n",
    "print(f\"test:\\t{testdf.shape}\")"
   ]
  },
  {
   "cell_type": "code",
   "execution_count": 7,
   "metadata": {},
   "outputs": [
    {
     "name": "stdout",
     "output_type": "stream",
     "text": [
      "RMSE:\t 8.692\n"
     ]
    }
   ],
   "source": [
    "baseregressor = LGBMRegressor()\n",
    "baseregressor.fit(X_train, y_train)\n",
    "print(f\"RMSE:\\t{score_rmse(y_test, baseregressor.predict(X_test)): .3f}\")"
   ]
  },
  {
   "cell_type": "code",
   "execution_count": 8,
   "metadata": {},
   "outputs": [
    {
     "name": "stdout",
     "output_type": "stream",
     "text": [
      "LinearRegression              \t\t RMSE: -560.308\t\t\t STD:  1103.30\n",
      "SGDRegressor                  \t\t RMSE: -882142.257\t\t\t STD:  490855.08\n",
      "Lasso                         \t\t RMSE: -8.733\t\t\t STD:  0.15\n",
      "Ridge                         \t\t RMSE: -56.128\t\t\t STD:  94.94\n",
      "LassoLars                     \t\t RMSE: -11.812\t\t\t STD:  0.10\n",
      "ElasticNet                    \t\t RMSE: -8.989\t\t\t STD:  0.09\n",
      "BayesianRidge                 \t\t RMSE: -558.939\t\t\t STD:  1100.56\n",
      "HuberRegressor                \t\t RMSE: -369.869\t\t\t STD:  722.25\n",
      "RANSACRegressor               \t\t RMSE: -73.352\t\t\t STD:  125.86\n",
      "PoissonRegressor              \t\t RMSE: -183553.210\t\t\t STD:  367079.35\n",
      "TweedieRegressor              \t\t RMSE: -9.217\t\t\t STD:  0.09\n",
      "PassiveAggressiveRegressor    \t\t RMSE: -18.826\t\t\t STD:  17.22\n",
      "DecisionTreeRegressor         \t\t RMSE: -12.129\t\t\t STD:  0.16\n",
      "BaggingRegressor              \t\t RMSE: -9.048\t\t\t STD:  0.13\n",
      "ExtraTreesRegressor           \t\t RMSE: -8.773\t\t\t STD:  0.10\n",
      "GradientBoostingRegressor     \t\t RMSE: -8.404\t\t\t STD:  0.13\n",
      "HistGradientBoostingRegressor \t\t RMSE: -8.431\t\t\t STD:  0.10\n",
      "KNeighborsRegressor           \t\t RMSE: -9.202\t\t\t STD:  0.10\n",
      "LinearSVR                     \t\t RMSE: -9.514\t\t\t STD:  1.49\n",
      "XGBRegressor                  \t\t RMSE: -8.644\t\t\t STD:  0.11\n",
      "LGBMRegressor                 \t\t RMSE: -8.469\t\t\t STD:  0.11\n",
      "CatBoostRegressor             \t\t RMSE: -8.568\t\t\t STD:  0.09\n",
      "PolynomialRegression          \t\t RMSE: -2393.696\t\t\t STD:  4770.37\n"
     ]
    }
   ],
   "source": [
    "mediandf = traindf[features_selected + ['target']].fillna(traindf[features_selected + ['target']].mean())\n",
    "estimate(mediandf,rows=100000)"
   ]
  },
  {
   "cell_type": "code",
   "execution_count": 9,
   "metadata": {},
   "outputs": [
    {
     "name": "stdout",
     "output_type": "stream",
     "text": [
      "RMSE:\t 8.677\n"
     ]
    }
   ],
   "source": [
    "hgbr = HistGradientBoostingRegressor()\n",
    "hgbr.fit(X_train, y_train)\n",
    "print(f\"RMSE:\\t{score_rmse(y_test, hgbr.predict(X_test)): .3f}\")"
   ]
  },
  {
   "cell_type": "code",
   "execution_count": 10,
   "metadata": {},
   "outputs": [
    {
     "name": "stdout",
     "output_type": "stream",
     "text": [
      "StackingRegressor RMSE:\t 8.682\n"
     ]
    }
   ],
   "source": [
    "st_regressor = StackingRegressor([('lgbm', LGBMRegressor()), ('hgrb', HistGradientBoostingRegressor())])\n",
    "st_regressor.fit(X_train[features_selected], y_train)\n",
    "print(f\"StackingRegressor RMSE:\\t{score_rmse(y_test, st_regressor.predict(X_test)) : .3f}\")"
   ]
  },
  {
   "cell_type": "markdown",
   "metadata": {},
   "source": [
    "### LGBMRegressor is selected as the base regressor because it's a production-ready solution and fast"
   ]
  },
  {
   "cell_type": "code",
   "execution_count": 11,
   "metadata": {},
   "outputs": [
    {
     "name": "stdout",
     "output_type": "stream",
     "text": [
      "Fitting 5 folds for each of 1 candidates, totalling 5 fits\n",
      "Best params: \n",
      "{'boosting_type': 'gbdt', 'colsample_bytree': 0.7, 'learning_rate': 0.025, 'max_depth': 4, 'min_child_samples': 200, 'min_child_weight': 0.001, 'min_split_gain': 0.05, 'n_estimators': 200, 'num_leaves': 20, 'reg_alpha': 0.0, 'reg_lambda': 0.2, 'subsample': 0.5, 'subsample_for_bin': 100000, 'subsample_freq': 0}\n"
     ]
    }
   ],
   "source": [
    "from sklearn.model_selection import GridSearchCV\n",
    "\n",
    "params = {'boosting_type': ['gbdt'],\n",
    "              'colsample_bytree': [0.7],\n",
    "              'learning_rate': [0.025],\n",
    "              'max_depth': [4],\n",
    "              'min_child_samples': [200],\n",
    "              'min_child_weight': [0.001],\n",
    "              'min_split_gain': [0.05],\n",
    "              'n_estimators': [200],\n",
    "              'num_leaves': [20],\n",
    "#               'objective': None,\n",
    "#               'random_state': None,\n",
    "              'reg_alpha': [0.0],\n",
    "              'reg_lambda': [0.2],\n",
    "              'subsample': [0.5],\n",
    "              'subsample_for_bin': [100000],\n",
    "              'subsample_freq': [0]}\n",
    "\n",
    "best_estimator, scaler = grid_search_cv(traindf[features_selected + ['target']], LGBMRegressor(random_state=0), params,rows=249876)"
   ]
  },
  {
   "cell_type": "code",
   "execution_count": 12,
   "metadata": {},
   "outputs": [
    {
     "data": {
      "text/plain": [
       "8.6697162084977"
      ]
     },
     "execution_count": 12,
     "metadata": {},
     "output_type": "execute_result"
    }
   ],
   "source": [
    "score_rmse(y_test, best_estimator.predict(scaler.transform(X_test)))"
   ]
  }
 ],
 "metadata": {
  "kernelspec": {
   "display_name": "venv",
   "language": "python",
   "name": "venv"
  },
  "language_info": {
   "codemirror_mode": {
    "name": "ipython",
    "version": 3
   },
   "file_extension": ".py",
   "mimetype": "text/x-python",
   "name": "python",
   "nbconvert_exporter": "python",
   "pygments_lexer": "ipython3",
   "version": "3.8.2"
  }
 },
 "nbformat": 4,
 "nbformat_minor": 4
}
