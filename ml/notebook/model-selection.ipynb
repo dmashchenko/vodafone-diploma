{
 "cells": [
  {
   "cell_type": "code",
   "execution_count": null,
   "metadata": {},
   "outputs": [],
   "source": [
    "import os\n",
    "import sys\n",
    "PROJ_ROOT = os.path.abspath(os.path.join(os.pardir))\n",
    "sys.path.append(os.path.join(PROJ_ROOT, 'src'))\n",
    "\n",
    "%matplotlib inline\n",
    "%config InlineBackend.figure_format ='retina'\n",
    "\n",
    "%load_ext autoreload\n",
    "%autoreload 2\n",
    "\n",
    "%aimport data, model, features, plot\n",
    "\n",
    "import pandas as pd\n",
    "import numpy as np\n",
    "import plotly.graph_objects as go\n",
    "import plotly.express as px\n",
    "\n",
    "from sklearn.experimental import enable_hist_gradient_boosting\n",
    "from lightgbm import LGBMRegressor\n",
    "from sklearn.ensemble import HistGradientBoostingRegressor, StackingRegressor\n",
    "from sklearn.preprocessing import StandardScaler\n",
    "\n",
    "import features.extraction as feature_extraction\n",
    "from model.selection import estimate, grid_search_cv\n",
    "from model.evaluation import score_rmse\n",
    "from sklearn.metrics import r2_score, max_error, explained_variance_score"
   ]
  },
  {
   "cell_type": "code",
   "execution_count": null,
   "metadata": {},
   "outputs": [],
   "source": [
    "features_selected = ['traff_m1', 'traff_mean', 'traff_m5', 'device_price', 'imei_mean_day_announced']"
   ]
  },
  {
   "cell_type": "code",
   "execution_count": null,
   "metadata": {},
   "outputs": [],
   "source": [
    "features_selected = ['city_cluster_last_month_std',\n",
    " 'non_accum_internet_vol_td_mnt3',\n",
    " 'traff_m4',\n",
    " 'city_cluster_mean_td',\n",
    " 'non_accum_internet_vol_max_mnt1',\n",
    " 'device_days_usage',\n",
    " 'non_accum_internet_vol_std_mnt1',\n",
    " 'bs_succ_rate',\n",
    " 'city_cluster_last_month_median',\n",
    " 'non_accum_internet_vol_min_mnt1',\n",
    " 'imei_mean_day_announced',\n",
    " 'MV_Traf_4G_d_Mb',\n",
    " 'data_3g_tar_vol_std_mnt3',\n",
    " 'dpi_events',\n",
    " 'myvf_day_usage',\n",
    " 'non_accum_internet_vol_max_mnt3',\n",
    " 'non_accum_internet_vol_min_mnt3',\n",
    " 'non_accum_internet_vol_mea_mnt1',\n",
    " 'imei_mean_days_usage',\n",
    " 'cnt_sms_category_microcred',\n",
    " 'traff_td',\n",
    " 'non_accum_internet_vol_mea_wk1',\n",
    " 'dpi_upload',\n",
    " 'traff_std',\n",
    " 'dpi_download',\n",
    " 'non_accum_internet_vol_mea_mnt3',\n",
    " 'imei_max_price',\n",
    " 'non_accum_internet_vol_std_mnt3',\n",
    " 'traff_min',\n",
    " 'city_cluster_last_month_min',\n",
    " 'traff_max',\n",
    " 'city_cluster_last_month_max',\n",
    " 'imei_mean_long_days_usage',\n",
    " 'traff_mean',\n",
    " 'content_cnt_std_mnt3',\n",
    " 'traff_m3',\n",
    " 'traff_m1',\n",
    " 'traff_m5',\n",
    " 'loc_lon',\n",
    " 'city_cluster_median_td',\n",
    " 'traff_median',\n",
    " 'device_price',\n",
    " 'MV_ap_4G_d',\n",
    " 'city_cluster_last_month_mean']"
   ]
  },
  {
   "cell_type": "code",
   "execution_count": null,
   "metadata": {},
   "outputs": [],
   "source": [
    "from data.dataset import DataSet, build_and_save_report\n",
    "\n",
    "traindf = DataSet.traindf\n",
    "testdf = DataSet.testdf\n",
    "geodf = DataSet.geodf"
   ]
  },
  {
   "cell_type": "code",
   "execution_count": null,
   "metadata": {},
   "outputs": [],
   "source": [
    "cluster_stats, cluster_median_trends, cluster_mean_trends = feature_extraction\\\n",
    "                                                                .calculate_statistics_by_cluster(traindf, 'city')\n",
    "feature_extraction.apply_cluster_statistics(traindf, 'city', cluster_stats, cluster_median_trends, cluster_mean_trends)\n",
    "feature_extraction.apply_cluster_statistics(testdf, 'city', cluster_stats, cluster_median_trends, cluster_mean_trends)"
   ]
  },
  {
   "cell_type": "code",
   "execution_count": null,
   "metadata": {},
   "outputs": [],
   "source": [
    "X_train, y_train = traindf[features_selected], traindf.target\n",
    "X_test, y_test = testdf[features_selected], testdf.target"
   ]
  },
  {
   "cell_type": "code",
   "execution_count": null,
   "metadata": {},
   "outputs": [],
   "source": [
    "print(f\"train:\\t{traindf.shape}\")\n",
    "print(f\"test:\\t{testdf.shape}\")"
   ]
  },
  {
   "cell_type": "code",
   "execution_count": null,
   "metadata": {},
   "outputs": [],
   "source": [
    "baseregressor = LGBMRegressor()\n",
    "baseregressor.fit(X_train, y_train)\n",
    "print(f\"RMSE:\\t{score_rmse(y_test, baseregressor.predict(X_test)): .3f}\")"
   ]
  },
  {
   "cell_type": "code",
   "execution_count": null,
   "metadata": {},
   "outputs": [],
   "source": [
    "mediandf = traindf[features_selected + ['target']].fillna(traindf[features_selected + ['target']].mean())\n",
    "estimate(mediandf,rows=249876)"
   ]
  },
  {
   "cell_type": "code",
   "execution_count": null,
   "metadata": {},
   "outputs": [],
   "source": [
    "X_train = X_train.fillna(X_train.mean())\n",
    "X_test = X_test.fillna(X_test.mean())"
   ]
  },
  {
   "cell_type": "code",
   "execution_count": null,
   "metadata": {},
   "outputs": [],
   "source": [
    "hgbr = HistGradientBoostingRegressor()\n",
    "hgbr.fit(X_train, y_train)\n",
    "pred = hgbr.predict(X_test)\n",
    "print(f\"RMSE:\\t{score_rmse(y_test, pred): .3f}\")\n",
    "print(f\"R^2:\\t{r2_score(y_test, pred): .3f}\")\n",
    "print(f\"Max Error:\\t{max_error(y_test, pred): .3f}\")"
   ]
  },
  {
   "cell_type": "code",
   "execution_count": null,
   "metadata": {},
   "outputs": [],
   "source": [
    "lgbm = LGBMRegressor()\n",
    "lgbm.fit(X_train, y_train)\n",
    "pred = lgbm.predict(X_test)\n",
    "print(f\"RMSE:\\t{score_rmse(y_test, pred): .3f}\")\n",
    "print(f\"R^2:\\t{r2_score(y_test, pred): .3f}\")\n",
    "print(f\"Max Error:\\t{max_error(y_test, pred): .3f}\")"
   ]
  },
  {
   "cell_type": "code",
   "execution_count": null,
   "metadata": {},
   "outputs": [],
   "source": [
    "from sklearn.linear_model import Lasso\n",
    "ls = Lasso()\n",
    "ls.fit(X_train, y_train)\n",
    "pred = ls.predict(X_test)\n",
    "print(f\"RMSE:\\t{score_rmse(y_test, pred): .3f}\")\n",
    "print(f\"R^2:\\t{r2_score(y_test, pred): .3f}\")\n",
    "print(f\"Max Error:\\t{max_error(y_test, pred): .3f}\")"
   ]
  },
  {
   "cell_type": "code",
   "execution_count": null,
   "metadata": {},
   "outputs": [],
   "source": [
    "from sklearn.linear_model import ElasticNet\n",
    "ls = ElasticNet()\n",
    "ls.fit(X_train, y_train)\n",
    "pred = ls.predict(X_test)\n",
    "print(f\"RMSE:\\t{score_rmse(y_test, pred): .3f}\")\n",
    "print(f\"R^2:\\t{r2_score(y_test, pred): .3f}\")\n",
    "print(f\"Max Error:\\t{max_error(y_test, pred): .3f}\")"
   ]
  },
  {
   "cell_type": "code",
   "execution_count": null,
   "metadata": {},
   "outputs": [],
   "source": [
    "st_regressor = StackingRegressor([('lgbm', LGBMRegressor()), ('hgrb', HistGradientBoostingRegressor())])\n",
    "st_regressor.fit(X_train[features_selected], y_train)\n",
    "print(f\"StackingRegressor RMSE:\\t{score_rmse(y_test, st_regressor.predict(X_test)) : .3f}\")"
   ]
  },
  {
   "cell_type": "markdown",
   "metadata": {},
   "source": [
    "### LGBMRegressor is selected as the base regressor because it's a production-ready solution and fast"
   ]
  },
  {
   "cell_type": "code",
   "execution_count": null,
   "metadata": {},
   "outputs": [],
   "source": [
    "from sklearn.model_selection import GridSearchCV\n",
    "\n",
    "params = {\n",
    "              'colsample_bytree': [0.8],\n",
    "              'learning_rate': [0.015],\n",
    "              'max_depth': [5],\n",
    "              'min_child_samples': [200],\n",
    "#               'min_child_weight': [0.001],\n",
    "              'min_split_gain': [0.05],\n",
    "              'n_estimators': [200],\n",
    "              'num_leaves': [30],\n",
    "#               'objective': None,\n",
    "#               'random_state': None,\n",
    "#               'reg_alpha': [0],\n",
    "              'reg_lambda': [0.3],\n",
    "#               'subsample': [0.5],\n",
    "              'subsample_for_bin': [100000],\n",
    "#               'subsample_freq': [0]\n",
    "         }\n",
    "\n",
    "best_estimator, scaler = grid_search_cv(traindf[features_selected + ['target']], \n",
    "                                        LGBMRegressor(random_state=1), \n",
    "                                        params,rows=249876)"
   ]
  },
  {
   "cell_type": "code",
   "execution_count": null,
   "metadata": {},
   "outputs": [],
   "source": [
    "from sklearn.model_selection import GridSearchCV\n",
    "\n",
    "params = {'loss':['least_squares'],\n",
    "    'learning_rate':[0.1],\n",
    "    'max_iter':[100],\n",
    "    'max_leaf_nodes':[31],\n",
    "    'max_depth':[4],\n",
    "    'min_samples_leaf':[1000],\n",
    "    'l2_regularization':[0.0],\n",
    "    'max_bins':[100],\n",
    "    'categorical_features':[None],\n",
    "    'monotonic_cst':[None],\n",
    "    'warm_start':[False],\n",
    "    'early_stopping':['auto'],\n",
    "    'scoring':['loss'],\n",
    "    'validation_fraction':[0.1],\n",
    "    'n_iter_no_change':[10],\n",
    "    'tol':[1e-07],}\n",
    "\n",
    "best_estimator, scaler = grid_search_cv(traindf[features_selected + ['target']], \n",
    "                                        HistGradientBoostingRegressor(random_state=1), \n",
    "                                        params,rows=249876)"
   ]
  },
  {
   "cell_type": "code",
   "execution_count": null,
   "metadata": {},
   "outputs": [],
   "source": [
    "pred = best_estimator.predict(scaler.transform(X_test))\n",
    "print(f\"RMSE:\\t{score_rmse(y_test, pred): .3f}\")\n",
    "print(f\"R^2:\\t{r2_score(y_test, pred): .3f}\")\n",
    "print(f\"Max Error:\\t{max_error(y_test, pred): .3f}\")"
   ]
  },
  {
   "cell_type": "code",
   "execution_count": null,
   "metadata": {},
   "outputs": [],
   "source": [
    "pd.Series(pred).sort_values(ascending=False)"
   ]
  },
  {
   "cell_type": "code",
   "execution_count": null,
   "metadata": {},
   "outputs": [],
   "source": [
    "testdf['prediction'] = pred"
   ]
  },
  {
   "cell_type": "code",
   "execution_count": null,
   "metadata": {},
   "outputs": [],
   "source": [
    "df[df.group == 'C'].count()"
   ]
  },
  {
   "cell_type": "code",
   "execution_count": null,
   "metadata": {},
   "outputs": [],
   "source": [
    "df = build_and_save_report(testdf, './../../app/static/stations.json')"
   ]
  },
  {
   "cell_type": "code",
   "execution_count": null,
   "metadata": {},
   "outputs": [],
   "source": [
    "testdf.station.nunique()"
   ]
  },
  {
   "cell_type": "code",
   "execution_count": null,
   "metadata": {},
   "outputs": [],
   "source": [
    "df[['consuming_rate']].sort_values(by='consuming_rate', ascending=True)[:10]"
   ]
  },
  {
   "cell_type": "code",
   "execution_count": null,
   "metadata": {},
   "outputs": [],
   "source": [
    "# fig = px.bar(df, x='group', text=['rate 1', 'rate 2', 'rate 3'])\n",
    "\n",
    "fig = go.Figure(data=[go.Bar(\n",
    "    x=['Low Risk', 'Medium Risk', 'High Risk'],\n",
    "    y=[1548,144, 0],\n",
    "    text=[1548,144, 0],\n",
    "    textposition='auto',\n",
    "    marker_color=['green', 'yellow', 'red'] # marker color can be a single color value or an iterable\n",
    ")])\n",
    "fig.update_layout(template='plotly_dark',plot_bgcolor='rgb(42, 56, 61)',paper_bgcolor='rgb(42, 56, 61)', \n",
    "                  font=dict(color=\"white\", size=26, ), width=1000, height=500)\n",
    "fig.show()"
   ]
  },
  {
   "cell_type": "code",
   "execution_count": null,
   "metadata": {},
   "outputs": [],
   "source": [
    "residuals = y_test - pred"
   ]
  },
  {
   "cell_type": "code",
   "execution_count": null,
   "metadata": {},
   "outputs": [],
   "source": [
    "traff_plot_df = testdf[testdf.index.isin(residuals.where(lambda x: abs(x) > 100 ).dropna().index)]"
   ]
  },
  {
   "cell_type": "code",
   "execution_count": null,
   "metadata": {},
   "outputs": [],
   "source": [
    "from plot.plot import traffic_parallel_coords\n",
    "fig = traffic_parallel_coords(traff_plot_df, max_value=200.0, range=[0.8, 1])\n",
    "fig.update_layout(template='plotly_dark',plot_bgcolor='rgb(42, 56, 61)',paper_bgcolor='rgb(42, 56, 61)', \n",
    "                  font=dict(color=\"white\", size=18, ), width=1100, height=600)"
   ]
  }
 ],
 "metadata": {
  "kernelspec": {
   "display_name": "venv",
   "language": "python",
   "name": "venv"
  },
  "language_info": {
   "codemirror_mode": {
    "name": "ipython",
    "version": 3
   },
   "file_extension": ".py",
   "mimetype": "text/x-python",
   "name": "python",
   "nbconvert_exporter": "python",
   "pygments_lexer": "ipython3",
   "version": "3.8.2"
  }
 },
 "nbformat": 4,
 "nbformat_minor": 4
}
